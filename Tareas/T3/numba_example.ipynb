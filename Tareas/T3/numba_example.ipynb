{
 "cells": [
  {
   "cell_type": "code",
   "execution_count": null,
   "metadata": {},
   "outputs": [],
   "source": [
    "#!pip install numba"
   ]
  },
  {
   "cell_type": "markdown",
   "metadata": {},
   "source": [
    "# Qué es Numba?\n",
    "\n",
    "De manera muy resumida, Numba una librería para Python que implementa Just In Time Compiling (JIT) e intenta paralelizar código a nivel de CPU.\n",
    "\n",
    "Funciona bien para librerías matemáticas, como `math` y `numpy`, pero también es posible definir funciones propias que pueden ser paralelizadas.\n",
    "\n",
    "## Cómo usarla?\n",
    "\n",
    "Al definir una función, se utiliza el decorador `@njit(parallel=True)` para indicarle a Numba que queremos que compile dicha función y la paralelize para nuestro procesador. La primera vez que se llama a esta función, es compilada y en las llamadas subsiguientes, esta ejecuta directamente desde el blob compilado, con lo que se consigue mejorar el rendimiento al no utilizar el intérprete de Python y además aprovechando de mejor manera los hilos del procesador."
   ]
  },
  {
   "cell_type": "code",
   "execution_count": 14,
   "metadata": {},
   "outputs": [
    {
     "name": "stdout",
     "output_type": "stream",
     "text": [
      "[[  9.  10.  11.  12.  13.  14.  15.  16.  17.  18.]\n",
      " [ 19.  20.  21.  22.  23.  24.  25.  26.  27.  28.]\n",
      " [ 29.  30.  31.  32.  33.  34.  35.  36.  37.  38.]\n",
      " [ 39.  40.  41.  42.  43.  44.  45.  46.  47.  48.]\n",
      " [ 49.  50.  51.  52.  53.  54.  55.  56.  57.  58.]\n",
      " [ 59.  60.  61.  62.  63.  64.  65.  66.  67.  68.]\n",
      " [ 69.  70.  71.  72.  73.  74.  75.  76.  77.  78.]\n",
      " [ 79.  80.  81.  82.  83.  84.  85.  86.  87.  88.]\n",
      " [ 89.  90.  91.  92.  93.  94.  95.  96.  97.  98.]\n",
      " [ 99. 100. 101. 102. 103. 104. 105. 106. 107. 108.]]\n"
     ]
    }
   ],
   "source": [
    "from numba import njit, prange\n",
    "import numpy as np\n",
    "import time\n",
    "\n",
    "x = np.arange(100).reshape(10, 10)\n",
    "\n",
    "@njit(parallel=True)\n",
    "def go_fast(a):\n",
    "    trace = 0.0\n",
    "    for i in range(a.shape[0]):   # Numba trabaja bien con loops\n",
    "        trace += np.tanh(a[i, i]) # Numba trabaja bien con Numpy\n",
    "    return a + trace              # Numba fuciona con type-broadcasting\n",
    "\n",
    "print(go_fast(x))"
   ]
  },
  {
   "cell_type": "markdown",
   "metadata": {},
   "source": [
    "En la siguiente celda hay tres ejecuciones a las que se les mide el tiempo, la primera corresponde a una función no paralelizada, la sgunda corresponde a la primera ejecución (cuando es compilada) de la función paralelizada, y la tercera corresponde a una ejecución de la función paralelizada ya compilada."
   ]
  },
  {
   "cell_type": "code",
   "execution_count": 15,
   "metadata": {},
   "outputs": [
    {
     "name": "stdout",
     "output_type": "stream",
     "text": [
      "Tiempo de ejecucion sin numba:  0.014093637466430664\n",
      "Tiempo de ejecucion compilado = 1.3485193252563477\n",
      "Tiempo de ejecucion ya compilado = 0.008001089096069336\n"
     ]
    }
   ],
   "source": [
    "x = np.arange(1000000).reshape(1000, 1000)\n",
    "\n",
    "def go_slow(a):\n",
    "    trace = 0.0\n",
    "    for i in range(a.shape[0]):\n",
    "        trace += np.tanh(a[i, i])\n",
    "    return a + trace\n",
    "\n",
    "@njit(parallel=True)\n",
    "def go_fast(a):\n",
    "    trace = 0.0\n",
    "    for i in prange(a.shape[0]):  # prange es equivalente a range, pero indica a numba que puede ser paralelizado\n",
    "        trace += np.tanh(a[i, i])\n",
    "    return a + trace\n",
    "\n",
    "# ejecucion de la funcion sin numba\n",
    "start = time.time()\n",
    "go_slow(x)\n",
    "end = time.time()\n",
    "print(\"Tiempo de ejecucion sin numba: \", end - start)\n",
    "\n",
    "# primera ejecucion y compilacion\n",
    "start = time.time()\n",
    "go_fast(x)\n",
    "end = time.time()\n",
    "print(\"Tiempo de ejecucion compilado = %s\" % (end - start))\n",
    "\n",
    "# segunda ejecucion, ya compilada\n",
    "start = time.time()\n",
    "go_fast(x)\n",
    "end = time.time()\n",
    "print(\"Tiempo de ejecucion ya compilado = %s\" % (end - start))\n",
    "\n",
    "# el script fue ejecutado en un equipo dual-core, por lo que antes de ejecutar esta celda\n",
    "# el ouput almacenado debiese mostrar una mejora ligeramente menor a 2x en el tiempo de ejecucion"
   ]
  }
 ],
 "metadata": {
  "interpreter": {
   "hash": "6189f557f5bc4df41e92f7a00b3721572a07e07697aeafd1cb02e690e443f281"
  },
  "kernelspec": {
   "display_name": "Python 3.9.1 64-bit",
   "language": "python",
   "name": "python3"
  },
  "language_info": {
   "codemirror_mode": {
    "name": "ipython",
    "version": 3
   },
   "file_extension": ".py",
   "mimetype": "text/x-python",
   "name": "python",
   "nbconvert_exporter": "python",
   "pygments_lexer": "ipython3",
   "version": "3.9.1"
  },
  "orig_nbformat": 4
 },
 "nbformat": 4,
 "nbformat_minor": 2
}
